{
 "cells": [
  {
   "cell_type": "markdown",
   "id": "a51f3e08-a34b-43b3-9131-d8229566880d",
   "metadata": {
    "tags": []
   },
   "source": [
    "# Chessboard Identification \n",
    "Aims to identify from any given perspective a chessboard bonundaries and vertices. Given a chesboard image, the algorithm should crop adn adjust the redifined-image perspective into an square image.\n",
    "\n",
    "## Objectives: \n",
    "- Access a chesboard dataset from github and download it for analysis. \n",
    "- Use the dataset to identify the main vertices\n",
    "- Crop the image from vertices and identify each chesboard cell.\n",
    "\n",
    "## Example: \n",
    "\n",
    "\n"
   ]
  },
  {
   "cell_type": "code",
   "execution_count": 18,
   "id": "d41a4722-94b0-4b09-b7c6-cb79a68553a5",
   "metadata": {
    "tags": []
   },
   "outputs": [],
   "source": [
    "import numpy as np\n",
    "import cv2 as cv \n",
    "import matplotlib.pyplot as plt"
   ]
  }
 ],
 "metadata": {
  "kernelspec": {
   "display_name": "Python 3 (ipykernel)",
   "language": "python",
   "name": "python3"
  },
  "language_info": {
   "codemirror_mode": {
    "name": "ipython",
    "version": 3
   },
   "file_extension": ".py",
   "mimetype": "text/x-python",
   "name": "python",
   "nbconvert_exporter": "python",
   "pygments_lexer": "ipython3",
   "version": "3.7.12"
  }
 },
 "nbformat": 4,
 "nbformat_minor": 5
}
