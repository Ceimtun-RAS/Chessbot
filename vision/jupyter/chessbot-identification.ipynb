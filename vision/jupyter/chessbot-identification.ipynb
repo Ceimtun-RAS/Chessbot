{
 "cells": [
  {
<<<<<<< HEAD
   "attachments": {},
=======
>>>>>>> chessboard-iden
   "cell_type": "markdown",
   "id": "a51f3e08-a34b-43b3-9131-d8229566880d",
   "metadata": {
    "tags": []
   },
   "source": [
    "# Chessboard Identification \n",
    "Aims to identify from any given perspective a chessboard bonundaries and vertices. Given a chesboard image, the algorithm should crop adn adjust the redifined-image perspective into an square image.\n",
    "\n",
    "## Objectives: \n",
    "- Access a chesboard dataset from github and download it for analysis. \n",
    "- Use the dataset to identify the main vertices\n",
<<<<<<< HEAD
    "- Crop the image from vertices and identify each chesboard cell.\n"
=======
    "- Crop the image from vertices and identify each chesboard cell.\n",
    "\n",
    "## Example: \n",
    "\n",
    "\n"
>>>>>>> chessboard-iden
   ]
  },
  {
   "cell_type": "code",
<<<<<<< HEAD
   "execution_count": 4,
=======
   "execution_count": 18,
>>>>>>> chessboard-iden
   "id": "d41a4722-94b0-4b09-b7c6-cb79a68553a5",
   "metadata": {
    "tags": []
   },
<<<<<<< HEAD
   "outputs": [
    {
     "ename": "ModuleNotFoundError",
     "evalue": "No module named 'pytorch'",
     "output_type": "error",
     "traceback": [
      "\u001b[0;31m---------------------------------------------------------------------------\u001b[0m",
      "\u001b[0;31mModuleNotFoundError\u001b[0m                       Traceback (most recent call last)",
      "\u001b[0;32m/var/folders/h1/zw_7vp_539bd392psmp2rnjh0000gn/T/ipykernel_28105/2926782178.py\u001b[0m in \u001b[0;36m<module>\u001b[0;34m\u001b[0m\n\u001b[1;32m      1\u001b[0m \u001b[0;32mimport\u001b[0m \u001b[0mnumpy\u001b[0m \u001b[0;32mas\u001b[0m \u001b[0mnp\u001b[0m\u001b[0;34m\u001b[0m\u001b[0;34m\u001b[0m\u001b[0m\n\u001b[1;32m      2\u001b[0m \u001b[0;32mimport\u001b[0m \u001b[0mcv2\u001b[0m \u001b[0;32mas\u001b[0m \u001b[0mcv\u001b[0m\u001b[0;34m\u001b[0m\u001b[0;34m\u001b[0m\u001b[0m\n\u001b[0;32m----> 3\u001b[0;31m \u001b[0;32mimport\u001b[0m \u001b[0mpytorch\u001b[0m\u001b[0;34m\u001b[0m\u001b[0;34m\u001b[0m\u001b[0m\n\u001b[0m\u001b[1;32m      4\u001b[0m \u001b[0;32mimport\u001b[0m \u001b[0mmatplotlib\u001b[0m\u001b[0;34m.\u001b[0m\u001b[0mpyplot\u001b[0m \u001b[0;32mas\u001b[0m \u001b[0mplt\u001b[0m\u001b[0;34m\u001b[0m\u001b[0;34m\u001b[0m\u001b[0m\n",
      "\u001b[0;31mModuleNotFoundError\u001b[0m: No module named 'pytorch'"
     ]
    }
   ],
   "source": [
    "import numpy as np\n",
    "import cv2 as cv \n",
    "import torch\n",
    "import matplotlib.pyplot as plt"
   ]
  },
  {
   "attachments": {},
   "cell_type": "markdown",
   "id": "35a0a989",
   "metadata": {},
   "source": [
    "# Chessboards Dataset \n",
    "Prepare the data for analysis. "
   ]
  },
  {
   "cell_type": "markdown",
   "id": "85135e53",
   "metadata": {},
   "source": []
  },
  {
   "cell_type": "code",
   "execution_count": null,
   "id": "694be2a4",
   "metadata": {},
   "outputs": [],
   "source": []
=======
   "outputs": [],
   "source": [
    "import numpy as np\n",
    "import cv2 as cv \n",
    "import matplotlib.pyplot as plt"
   ]
>>>>>>> chessboard-iden
  }
 ],
 "metadata": {
  "kernelspec": {
   "display_name": "Python 3 (ipykernel)",
   "language": "python",
   "name": "python3"
  },
  "language_info": {
   "codemirror_mode": {
    "name": "ipython",
    "version": 3
   },
   "file_extension": ".py",
   "mimetype": "text/x-python",
   "name": "python",
   "nbconvert_exporter": "python",
   "pygments_lexer": "ipython3",
   "version": "3.7.12"
  }
 },
 "nbformat": 4,
 "nbformat_minor": 5
}
